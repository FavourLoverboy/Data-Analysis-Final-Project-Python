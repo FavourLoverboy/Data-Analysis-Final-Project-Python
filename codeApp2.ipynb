{
 "cells": [
  {
   "cell_type": "code",
   "execution_count": 1,
   "id": "005f2e91",
   "metadata": {},
   "outputs": [],
   "source": [
    "from google_play_scraper import Sort, reviews_all, reviews, app\n",
    "import pandas as pd\n",
    "import numpy as np\n",
    "import matplotlib.pyplot as plt\n",
    "import seaborn as sns\n",
    "%matplotlib inline"
   ]
  },
  {
   "cell_type": "markdown",
   "id": "e4e97f89",
   "metadata": {},
   "source": [
    "#### Function to fetch data from google play store"
   ]
  },
  {
   "cell_type": "code",
   "execution_count": 2,
   "id": "df356232",
   "metadata": {},
   "outputs": [],
   "source": [
    "def fetch_data(id):\n",
    "    result = app(id, lang='en', country='us')\n",
    "    return result"
   ]
  },
  {
   "cell_type": "markdown",
   "id": "121d2526",
   "metadata": {},
   "source": [
    "#### Assigning value to Variables Note: This returns a dictionary"
   ]
  },
  {
   "cell_type": "code",
   "execution_count": 3,
   "id": "ff2c9af6",
   "metadata": {},
   "outputs": [],
   "source": [
    "w3School = fetch_data('com.codes.school')\n",
    "udemy = fetch_data('com.udemy.android')\n",
    "soloLearn = fetch_data('com.sololearn')\n",
    "grassHopper = fetch_data('com.area120.grasshopper')\n",
    "programmingHub = fetch_data('com.freeit.java')\n",
    "programmingHero = fetch_data('com.learnprogramming.codecamp')\n",
    "encode = fetch_data('com.upskew.encode')\n",
    "coursera = fetch_data('org.coursera.android')"
   ]
  },
  {
   "cell_type": "markdown",
   "id": "12fa5890",
   "metadata": {},
   "source": [
    "#### Creating list of index"
   ]
  },
  {
   "cell_type": "code",
   "execution_count": 4,
   "id": "f6778824",
   "metadata": {},
   "outputs": [],
   "source": [
    "# indexs = ['installs', 'score', 'ratings', 'reviews', 'currency', 'genre']\n",
    "indexs = ['W3School', 'Udemy', 'soloLearn', 'grassHopper', 'programmingHub', 'programmingHero', 'encode', 'coursera']"
   ]
  },
  {
   "cell_type": "markdown",
   "id": "54970813",
   "metadata": {},
   "source": [
    "#### Creating a function to remove '+' and ',' sign from the install values"
   ]
  },
  {
   "cell_type": "code",
   "execution_count": 5,
   "id": "f089bc8a",
   "metadata": {},
   "outputs": [],
   "source": [
    "# Removing '+' from the install values\n",
    "def remove(str):\n",
    "    num = str.replace('+', '')\n",
    "    return int(num.replace(',', ''))"
   ]
  },
  {
   "cell_type": "markdown",
   "id": "1c9c3857",
   "metadata": {},
   "source": [
    "#### Collecting important details from the dictionary which was returned above"
   ]
  },
  {
   "cell_type": "code",
   "execution_count": 6,
   "id": "c021ef21",
   "metadata": {},
   "outputs": [],
   "source": [
    "install = {'Install':[w3School['installs'], udemy['installs'], soloLearn['installs'], grassHopper['installs'], programmingHub['installs'], programmingHero['installs'], encode['installs'], coursera['installs']]}"
   ]
  },
  {
   "cell_type": "code",
   "execution_count": 7,
   "id": "01bcacf9",
   "metadata": {},
   "outputs": [],
   "source": [
    "score = {'Score':[w3School['score'], udemy['score'], soloLearn['score'], grassHopper['score'], programmingHub['score'], programmingHero['score'], encode['score'], coursera['score']]}"
   ]
  },
  {
   "cell_type": "code",
   "execution_count": 8,
   "id": "70cd8c16",
   "metadata": {},
   "outputs": [],
   "source": [
    "ratings = {'Ratings':[w3School['ratings'], udemy['ratings'], soloLearn['ratings'], grassHopper['ratings'], programmingHub['ratings'], programmingHero['ratings'], encode['ratings'], coursera['ratings']]}"
   ]
  },
  {
   "cell_type": "code",
   "execution_count": 9,
   "id": "b353aff5",
   "metadata": {},
   "outputs": [],
   "source": [
    "reviews = {'Reviews':[w3School['reviews'], udemy['reviews'], soloLearn['reviews'], grassHopper['reviews'], programmingHub['reviews'], programmingHero['reviews'], encode['reviews'], coursera['reviews']]}"
   ]
  },
  {
   "cell_type": "code",
   "execution_count": 10,
   "id": "2b1ea397",
   "metadata": {},
   "outputs": [],
   "source": [
    "currency = {'Currency':[w3School['currency'], udemy['currency'], soloLearn['currency'], grassHopper['currency'], programmingHub['currency'], programmingHero['currency'], encode['currency'], coursera['currency']]}"
   ]
  },
  {
   "cell_type": "code",
   "execution_count": 11,
   "id": "fa3d6128",
   "metadata": {},
   "outputs": [],
   "source": [
    "genre = {'Genre':[w3School['genre'], udemy['genre'], soloLearn['genre'], grassHopper['genre'], programmingHub['genre'], programmingHero['genre'], encode['genre'], coursera['genre']]}"
   ]
  },
  {
   "cell_type": "markdown",
   "id": "98d5f441",
   "metadata": {},
   "source": [
    "#### Changing each of the dictionary to Pandas DataFrame"
   ]
  },
  {
   "cell_type": "code",
   "execution_count": 12,
   "id": "48e2372d",
   "metadata": {},
   "outputs": [],
   "source": [
    "install = pd.DataFrame(install, index= indexs)\n",
    "score = pd.DataFrame(score, index= indexs)\n",
    "ratings = pd.DataFrame(ratings, index= indexs)\n",
    "reviews = pd.DataFrame(reviews, index= indexs)\n",
    "currency = pd.DataFrame(currency, index= indexs)\n",
    "genre = pd.DataFrame(genre, index= indexs)\n",
    "apps = pd.DataFrame(indexs, index=indexs, columns=['Apps']) # Creating Apps column"
   ]
  },
  {
   "cell_type": "code",
   "execution_count": 13,
   "id": "e3e01aed",
   "metadata": {},
   "outputs": [],
   "source": [
    "install = install['Install'].apply(remove) # This returns a Pandas Series"
   ]
  },
  {
   "cell_type": "code",
   "execution_count": 14,
   "id": "00d2ce00",
   "metadata": {},
   "outputs": [],
   "source": [
    "install = pd.DataFrame(install, index= indexs) # Changing install back to Pandas DataFrame"
   ]
  },
  {
   "cell_type": "code",
   "execution_count": 15,
   "id": "7d439ffc",
   "metadata": {},
   "outputs": [],
   "source": [
    "data = install.join(score)\n",
    "data = data.join(ratings)\n",
    "data = data.join(reviews)\n",
    "data = data.join(currency)\n",
    "data = data.join(genre)\n",
    "data = data.join(apps)"
   ]
  },
  {
   "cell_type": "code",
   "execution_count": 16,
   "id": "e953fff9",
   "metadata": {},
   "outputs": [
    {
     "data": {
      "text/html": [
       "<div>\n",
       "<style scoped>\n",
       "    .dataframe tbody tr th:only-of-type {\n",
       "        vertical-align: middle;\n",
       "    }\n",
       "\n",
       "    .dataframe tbody tr th {\n",
       "        vertical-align: top;\n",
       "    }\n",
       "\n",
       "    .dataframe thead th {\n",
       "        text-align: right;\n",
       "    }\n",
       "</style>\n",
       "<table border=\"1\" class=\"dataframe\">\n",
       "  <thead>\n",
       "    <tr style=\"text-align: right;\">\n",
       "      <th></th>\n",
       "      <th>Install</th>\n",
       "      <th>Score</th>\n",
       "      <th>Ratings</th>\n",
       "      <th>Reviews</th>\n",
       "      <th>Currency</th>\n",
       "      <th>Genre</th>\n",
       "      <th>Apps</th>\n",
       "    </tr>\n",
       "  </thead>\n",
       "  <tbody>\n",
       "    <tr>\n",
       "      <th>W3School</th>\n",
       "      <td>50000</td>\n",
       "      <td>0.000000</td>\n",
       "      <td>0</td>\n",
       "      <td>0</td>\n",
       "      <td>USD</td>\n",
       "      <td>Education</td>\n",
       "      <td>W3School</td>\n",
       "    </tr>\n",
       "    <tr>\n",
       "      <th>Udemy</th>\n",
       "      <td>10000000</td>\n",
       "      <td>4.363345</td>\n",
       "      <td>363227</td>\n",
       "      <td>13211</td>\n",
       "      <td>USD</td>\n",
       "      <td>Education</td>\n",
       "      <td>Udemy</td>\n",
       "    </tr>\n",
       "    <tr>\n",
       "      <th>soloLearn</th>\n",
       "      <td>10000000</td>\n",
       "      <td>4.510539</td>\n",
       "      <td>559293</td>\n",
       "      <td>19351</td>\n",
       "      <td>USD</td>\n",
       "      <td>Education</td>\n",
       "      <td>soloLearn</td>\n",
       "    </tr>\n",
       "    <tr>\n",
       "      <th>grassHopper</th>\n",
       "      <td>5000000</td>\n",
       "      <td>4.461538</td>\n",
       "      <td>60748</td>\n",
       "      <td>4763</td>\n",
       "      <td>USD</td>\n",
       "      <td>Education</td>\n",
       "      <td>grassHopper</td>\n",
       "    </tr>\n",
       "    <tr>\n",
       "      <th>programmingHub</th>\n",
       "      <td>5000000</td>\n",
       "      <td>4.712062</td>\n",
       "      <td>165182</td>\n",
       "      <td>6542</td>\n",
       "      <td>USD</td>\n",
       "      <td>Education</td>\n",
       "      <td>programmingHub</td>\n",
       "    </tr>\n",
       "    <tr>\n",
       "      <th>programmingHero</th>\n",
       "      <td>1000000</td>\n",
       "      <td>4.738602</td>\n",
       "      <td>39603</td>\n",
       "      <td>1441</td>\n",
       "      <td>USD</td>\n",
       "      <td>Education</td>\n",
       "      <td>programmingHero</td>\n",
       "    </tr>\n",
       "    <tr>\n",
       "      <th>encode</th>\n",
       "      <td>500000</td>\n",
       "      <td>4.486667</td>\n",
       "      <td>5796</td>\n",
       "      <td>697</td>\n",
       "      <td>USD</td>\n",
       "      <td>Education</td>\n",
       "      <td>encode</td>\n",
       "    </tr>\n",
       "    <tr>\n",
       "      <th>coursera</th>\n",
       "      <td>10000000</td>\n",
       "      <td>4.129464</td>\n",
       "      <td>132376</td>\n",
       "      <td>3812</td>\n",
       "      <td>USD</td>\n",
       "      <td>Education</td>\n",
       "      <td>coursera</td>\n",
       "    </tr>\n",
       "  </tbody>\n",
       "</table>\n",
       "</div>"
      ],
      "text/plain": [
       "                  Install     Score  Ratings  Reviews Currency      Genre  \\\n",
       "W3School            50000  0.000000        0        0      USD  Education   \n",
       "Udemy            10000000  4.363345   363227    13211      USD  Education   \n",
       "soloLearn        10000000  4.510539   559293    19351      USD  Education   \n",
       "grassHopper       5000000  4.461538    60748     4763      USD  Education   \n",
       "programmingHub    5000000  4.712062   165182     6542      USD  Education   \n",
       "programmingHero   1000000  4.738602    39603     1441      USD  Education   \n",
       "encode             500000  4.486667     5796      697      USD  Education   \n",
       "coursera         10000000  4.129464   132376     3812      USD  Education   \n",
       "\n",
       "                            Apps  \n",
       "W3School                W3School  \n",
       "Udemy                      Udemy  \n",
       "soloLearn              soloLearn  \n",
       "grassHopper          grassHopper  \n",
       "programmingHub    programmingHub  \n",
       "programmingHero  programmingHero  \n",
       "encode                    encode  \n",
       "coursera                coursera  "
      ]
     },
     "execution_count": 16,
     "metadata": {},
     "output_type": "execute_result"
    }
   ],
   "source": [
    "data"
   ]
  },
  {
   "cell_type": "markdown",
   "id": "f1971fbd",
   "metadata": {},
   "source": [
    "# Visualization"
   ]
  },
  {
   "cell_type": "code",
   "execution_count": 17,
   "id": "7f26bff3",
   "metadata": {},
   "outputs": [
    {
     "data": {
      "text/plain": [
       "<AxesSubplot:xlabel='Install', ylabel='Apps'>"
      ]
     },
     "execution_count": 17,
     "metadata": {},
     "output_type": "execute_result"
    },
    {
     "data": {
      "image/png": "[encoded data removed]",
      "text/plain": [
       "<Figure size 432x288 with 1 Axes>"
      ]
     },
     "metadata": {
      "needs_background": "light"
     },
     "output_type": "display_data"
    }
   ],
   "source": [
    "sns.barplot(x='Install', y='Apps', data=data)"
   ]
  },
  {
   "cell_type": "code",
   "execution_count": 18,
   "id": "9a8ce5e2",
   "metadata": {},
   "outputs": [
    {
     "data": {
      "text/plain": [
       "<AxesSubplot:xlabel='Score', ylabel='Apps'>"
      ]
     },
     "execution_count": 18,
     "metadata": {},
     "output_type": "execute_result"
    },
    {
     "data": {
      "image/png": "[encoded data removed]",
      "text/plain": [
       "<Figure size 432x288 with 1 Axes>"
      ]
     },
     "metadata": {
      "needs_background": "light"
     },
     "output_type": "display_data"
    }
   ],
   "source": [
    "sns.barplot(x='Score', y='Apps', data=data)"
   ]
  },
  {
   "cell_type": "code",
   "execution_count": 19,
   "id": "688666d9",
   "metadata": {},
   "outputs": [
    {
     "data": {
      "text/plain": [
       "<AxesSubplot:xlabel='Ratings', ylabel='Apps'>"
      ]
     },
     "execution_count": 19,
     "metadata": {},
     "output_type": "execute_result"
    },
    {
     "data": {
      "image/png": "[encoded data removed]",
      "text/plain": [
       "<Figure size 432x288 with 1 Axes>"
      ]
     },
     "metadata": {
      "needs_background": "light"
     },
     "output_type": "display_data"
    }
   ],
   "source": [
    "sns.barplot(x='Ratings', y='Apps', data=data)"
   ]
  },
  {
   "cell_type": "code",
   "execution_count": 20,
   "id": "dc2cab46",
   "metadata": {},
   "outputs": [
    {
     "data": {
      "text/plain": [
       "<AxesSubplot:xlabel='Reviews', ylabel='Apps'>"
      ]
     },
     "execution_count": 20,
     "metadata": {},
     "output_type": "execute_result"
    },
    {
     "data": {
      "image/png": "[encoded data removed]",
      "text/plain": [
       "<Figure size 432x288 with 1 Axes>"
      ]
     },
     "metadata": {
      "needs_background": "light"
     },
     "output_type": "display_data"
    }
   ],
   "source": [
    "sns.barplot(x='Reviews', y='Apps', data=data)"
   ]
  },
  {
   "cell_type": "markdown",
   "id": "aa8423e4",
   "metadata": {},
   "source": [
    "#### From our Data Visualization above we saw that SoloLearn was the best app in terms of everything"
   ]
  },
  {
   "cell_type": "markdown",
   "id": "a92ff77c",
   "metadata": {},
   "source": [
    "#### Sentiment Analysis base on SoloLearn "
   ]
  },
  {
   "cell_type": "code",
   "execution_count": null,
   "id": "8de89ad5",
   "metadata": {},
   "outputs": [],
   "source": []
  },
  {
   "cell_type": "code",
   "execution_count": null,
   "id": "991a2265",
   "metadata": {},
   "outputs": [],
   "source": []
  },
  {
   "cell_type": "code",
   "execution_count": null,
   "id": "fe786cc8",
   "metadata": {},
   "outputs": [],
   "source": []
  }
 ],
 "metadata": {
  "kernelspec": {
   "display_name": "Python 3 (ipykernel)",
   "language": "python",
   "name": "python3"
  },
  "language_info": {
   "codemirror_mode": {
    "name": "ipython",
    "version": 3
   },
   "file_extension": ".py",
   "mimetype": "text/x-python",
   "name": "python",
   "nbconvert_exporter": "python",
   "pygments_lexer": "ipython3",
   "version": "3.9.7"
  }
 },
 "nbformat": 4,
 "nbformat_minor": 5
}
